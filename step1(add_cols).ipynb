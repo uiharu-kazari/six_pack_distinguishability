{
 "cells": [
  {
   "cell_type": "code",
   "execution_count": null,
   "metadata": {},
   "outputs": [],
   "source": [
    "\n",
    "from commutazzio.filtration import CLFiltration\n",
    "from commutazzio.compute import CLInvariants\n",
    "from commutazzio.filtration import CLFiltrationDB\n",
    "# from commutazzio.plot import ComplementaryTrianglesPlot as Visualizer1\n",
    "import random\n",
    "import numpy as np\n",
    "from echoflare import send_finish_message\n",
    "from commutazzio.utils import filepath_generator\n",
    "\n",
    "import pandas as pd\n",
    "pd.options.display.max_rows = None\n",
    "pd.set_option('display.max_columns', None)\n",
    "import os\n",
    "import glob\n",
    "from commutazzio.statistics import CL4_NIScores, CLN_NIScores  \n"
   ]
  },
  {
   "cell_type": "code",
   "execution_count": null,
   "metadata": {},
   "outputs": [],
   "source": [
    "# Read the dataframes\n",
    "cl4_df = pd.read_pickle('cl4_df_pc_large.pkl')\n",
    "cln_df = pd.read_pickle('cln_df_pc_large.pkl')\n",
    "sample_4=cl4_df.sample(10000)\n",
    "sample_n = cln_df.sample(10000)\n",
    "Is=[f\"I{_}\" for _ in range(1, 56)]\n",
    "Ns=[f\"N{_}\" for _ in range(1, 22)]\n",
    "Ls=Is+Ns\n",
    "# to dict, join Is and Ns\n",
    "mult_dict=sample_4.iloc[0][Is+Ns].to_dict()\n",
    "# create a dict with keys Ls and random positive integers as values\n",
    "mult_dict={k:random.randint(1, 100) for k in Ls}\n"
   ]
  },
  {
   "cell_type": "code",
   "execution_count": null,
   "metadata": {},
   "outputs": [],
   "source": [
    "# for i in range(len(sample_n)):\n",
    "#     # return the first i with lines containing meaningful data\n",
    "#     lines = sample_n.iloc[i]['lines']\n",
    "#     if lines != ',x0,y0,x1,y1,multiplicity\\n':\n",
    "#         print(lines)\n",
    "#         print(i)\n",
    "#         break\n",
    "\n",
    "# sample_n.iloc[i]['lines']\n",
    "# dots,lines=sample_n.iloc[i]['dots'],sample_n.iloc[i]['lines']\n",
    "# dots=',x,y,multiplicity,area\\n0,1,1,1,U\\n1,2,2,1,U\\n2,4,4,1,U\\n3,6,6,1,U\\n4,6,8,1,U\\n5,9,6,1,D\\n6,7,7,1,U\\n7,8,7,1,D\\n8,11,11,1,U\\n9,12,12,1,U\\n'\n",
    "# lines=',x0,y0,x1,y1,multiplicity\\n0,9,6,6,8,1\\n1,8,7,6,7,-1\\n2,8,7,6,8,1\\n3,8,7,7,7,1\\n4,9,7,6,7,1\\n5,9,7,6,8,-1\\n'\n",
    "# lines=',x0,y0,x1,y1,multiplicity\\n'\n",
    "# aa=CLN_NIScores(dots,lines)\n",
    "# # aa.agg_total\n",
    "# # aa._numerator_numba\n",
    "# # aa.ns_c_prime\n",
    "\n",
    "def cl4_add_cols(df):\n",
    "    # for each row, extract Ls, create a CL4_NIScores instance, \n",
    "    # compute  ns_const and ns_logistic(i) for i from 0 to 8\n",
    "    # get dots and rows, create a CLN_NIScores instance,\n",
    "    # compute ns_c_prime\n",
    "    # add the results to the dataframe\n",
    "    def nScores(row):\n",
    "        mult_dict=row[Ls].to_dict()\n",
    "        obj=CL4_NIScores(mult_dict)\n",
    "        return obj.ns_const, obj.ns_logistic(0), obj.ns_logistic(1), obj.ns_logistic(2), obj.ns_logistic(3), obj.ns_logistic(4), obj.ns_logistic(5), obj.ns_logistic(6), obj.ns_logistic(7), obj.ns_logistic(8)\n",
    "    df[['ns_const']+['ns_logistic_'+str(i) for i in range(9)]]=df.apply(nScores, axis=1, result_type='expand')\n",
    "    def nSprime(row):\n",
    "        dots,lines=row['dots'],row['lines']\n",
    "        obj=CLN_NIScores(dots,lines)\n",
    "        return obj.ns_c_prime\n",
    "    df['ns_c_prime']=df.apply(nSprime, axis=1)\n",
    "    return df\n",
    "def cln_add_cols(df):\n",
    "    def nSprime(row):\n",
    "        dots,lines=row['dots'],row['lines']\n",
    "        obj=CLN_NIScores(dots,lines)\n",
    "        return obj.ns_c_prime\n",
    "    df['ns_c_prime']=df.apply(nSprime, axis=1)\n",
    "    # define capture ratio\n",
    "    def capture_ratio(row):\n",
    "        numerator=row['ladder_length']\n",
    "        denominator=row['critical_radii_number']\n",
    "        return numerator/denominator\n",
    "    df['capture_ratio']=df.apply(capture_ratio, axis=1)\n",
    "    return df\n"
   ]
  },
  {
   "cell_type": "code",
   "execution_count": null,
   "metadata": {},
   "outputs": [],
   "source": [
    "cl4_pc_decorated=cl4_add_cols(cl4_df)\n",
    "cln_pc_decorated=cln_add_cols(cln_df)\n",
    "cl4_pc_decorated.to_pickle('cl4_pc_large_decorated.pkl')\n",
    "cln_pc_decorated.to_pickle('cln_pc_large_decorated.pkl')"
   ]
  },
  {
   "cell_type": "code",
   "execution_count": null,
   "metadata": {},
   "outputs": [],
   "source": []
  }
 ],
 "metadata": {
  "kernelspec": {
   "display_name": "TDA",
   "language": "python",
   "name": "python3"
  },
  "language_info": {
   "codemirror_mode": {
    "name": "ipython",
    "version": 3
   },
   "file_extension": ".py",
   "mimetype": "text/x-python",
   "name": "python",
   "nbconvert_exporter": "python",
   "pygments_lexer": "ipython3",
   "version": "3.10.11"
  },
  "orig_nbformat": 4
 },
 "nbformat": 4,
 "nbformat_minor": 2
}
